{
 "cells": [
  {
   "cell_type": "code",
   "execution_count": 1,
   "id": "d8693f77-636a-4c41-86d9-260ff6bf9405",
   "metadata": {},
   "outputs": [],
   "source": [
    "import numpy as np\n",
    "import pandas as pd\n",
    "\n",
    "import geopandas as gpd\n",
    "import osmnx as ox"
   ]
  },
  {
   "cell_type": "markdown",
   "id": "86be767b-d3f1-41a2-ab11-708b652b8e05",
   "metadata": {},
   "source": [
    "# Querying OpenStreetMap"
   ]
  },
  {
   "cell_type": "code",
   "execution_count": 2,
   "id": "8f9df217-ef02-48ec-9989-e56c8234cd6d",
   "metadata": {},
   "outputs": [
    {
     "name": "stdout",
     "output_type": "stream",
     "text": [
      "Name: osmnx\n",
      "Version: 1.9.4\n",
      "Summary: Download, model, analyze, and visualize street networks and other geospatial features from OpenStreetMap\n",
      "Home-page: \n",
      "Author: \n",
      "Author-email: Geoff Boeing <boeing@usc.edu>\n",
      "License: MIT License\n",
      "Location: /share/pierson/conda_virtualenvs/INFUTOR_env/lib/python3.10/site-packages\n",
      "Requires: geopandas, networkx, numpy, pandas, requests, shapely\n",
      "Required-by: \n"
     ]
    }
   ],
   "source": [
    "!pip show osmnx"
   ]
  },
  {
   "cell_type": "code",
   "execution_count": null,
   "id": "e2be44fa-a479-40f2-9c87-f28ac7c6d576",
   "metadata": {},
   "outputs": [],
   "source": []
  }
 ],
 "metadata": {
  "kernelspec": {
   "display_name": "Python 3 (ipykernel)",
   "language": "python",
   "name": "python3"
  },
  "language_info": {
   "codemirror_mode": {
    "name": "ipython",
    "version": 3
   },
   "file_extension": ".py",
   "mimetype": "text/x-python",
   "name": "python",
   "nbconvert_exporter": "python",
   "pygments_lexer": "ipython3",
   "version": "3.10.13"
  }
 },
 "nbformat": 4,
 "nbformat_minor": 5
}

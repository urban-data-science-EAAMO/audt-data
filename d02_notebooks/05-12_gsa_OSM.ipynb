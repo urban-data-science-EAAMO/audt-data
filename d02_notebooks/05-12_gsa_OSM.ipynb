{
 "cells": [
  {
   "cell_type": "code",
   "execution_count": 1,
   "id": "d8693f77-636a-4c41-86d9-260ff6bf9405",
   "metadata": {},
   "outputs": [],
   "source": [
    "import numpy as np\n",
    "import pandas as pd\n",
    "\n",
    "import geopandas as gpd\n",
    "import osmnx as ox"
   ]
  },
  {
   "cell_type": "markdown",
   "id": "86be767b-d3f1-41a2-ab11-708b652b8e05",
   "metadata": {},
   "source": [
    "# Querying OpenStreetMap"
   ]
  },
  {
   "cell_type": "code",
   "execution_count": 3,
   "id": "8f9df217-ef02-48ec-9989-e56c8234cd6d",
   "metadata": {},
   "outputs": [],
   "source": [
    "test_point = (40.733633, -74.002752)\n",
    "test_area = ox.utils_geo.bbox_to_poly(ox.utils_geo.bbox_from_point(test_point, dist=250))"
   ]
  },
  {
   "cell_type": "code",
   "execution_count": 6,
   "id": "e2be44fa-a479-40f2-9c87-f28ac7c6d576",
   "metadata": {},
   "outputs": [],
   "source": [
    "test_features = ox.features.features_from_polygon(test_area, tags={'amenity':True, 'building':True, 'shop':True})"
   ]
  },
  {
   "cell_type": "code",
   "execution_count": 20,
   "id": "0fd5e88a-6de7-4639-a7d0-d8d1bb93d780",
   "metadata": {},
   "outputs": [
    {
     "data": {
      "text/plain": [
       "geometry                           POINT (-74.0025 40.7358333)\n",
       "amenity                                       place_of_worship\n",
       "denomination                                           baptist\n",
       "ele                                                          7\n",
       "gnis:feature_id                                        2072113\n",
       "name                                      South Baptist Church\n",
       "note                    no informations found! Still existing?\n",
       "religion                                             christian\n",
       "addr:state                                                 NaN\n",
       "building                                                   NaN\n",
       "source                                                     NaN\n",
       "addr:city                                                  NaN\n",
       "addr:country                                               NaN\n",
       "addr:housenumber                                           NaN\n",
       "addr:postcode                                              NaN\n",
       "addr:street                                                NaN\n",
       "heritage                                                   NaN\n",
       "heritage:website                                           NaN\n",
       "historic                                                   NaN\n",
       "lgbtq                                                      NaN\n",
       "ref:nrhp                                                   NaN\n",
       "sport                                                      NaN\n",
       "tourism                                                    NaN\n",
       "website                                                    NaN\n",
       "wheelchair                                                 NaN\n",
       "wikidata                                                   NaN\n",
       "wikipedia                                                  NaN\n",
       "bicycle_parking                                            NaN\n",
       "capacity                                                   NaN\n",
       "cityracks.housenum                                         NaN\n",
       "cityracks.large                                            NaN\n",
       "cityracks.rackid                                           NaN\n",
       "cityracks.small                                            NaN\n",
       "cityracks.street                                           NaN\n",
       "covered                                                    NaN\n",
       "cityracks.installed                                        NaN\n",
       "check_date                                                 NaN\n",
       "description                                                NaN\n",
       "payment:cash                                               NaN\n",
       "payment:credit_cards                                       NaN\n",
       "payment:debit_cards                                        NaN\n",
       "brand                                                      NaN\n",
       "brand:wikidata                                             NaN\n",
       "opening_hours                                              NaN\n",
       "branch                                                     NaN\n",
       "cuisine                                                    NaN\n",
       "indoor_seating                                             NaN\n",
       "internet_access                                            NaN\n",
       "internet_access:fee                                        NaN\n",
       "outdoor_seating                                            NaN\n",
       "Name: (node, 357610803), dtype: object"
      ]
     },
     "execution_count": 20,
     "metadata": {},
     "output_type": "execute_result"
    }
   ],
   "source": [
    "test_features.iloc[0].head(50)"
   ]
  },
  {
   "cell_type": "code",
   "execution_count": null,
   "id": "d3a4f3f4-8888-4903-8d41-019c315d3177",
   "metadata": {},
   "outputs": [],
   "source": []
  }
 ],
 "metadata": {
  "kernelspec": {
   "display_name": "Python 3 (ipykernel)",
   "language": "python",
   "name": "python3"
  },
  "language_info": {
   "codemirror_mode": {
    "name": "ipython",
    "version": 3
   },
   "file_extension": ".py",
   "mimetype": "text/x-python",
   "name": "python",
   "nbconvert_exporter": "python",
   "pygments_lexer": "ipython3",
   "version": "3.12.10"
  }
 },
 "nbformat": 4,
 "nbformat_minor": 5
}

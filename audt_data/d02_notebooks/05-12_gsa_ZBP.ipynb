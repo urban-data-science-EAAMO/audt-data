{
 "cells": [
  {
   "cell_type": "code",
   "execution_count": 2,
   "id": "d8693f77-636a-4c41-86d9-260ff6bf9405",
   "metadata": {},
   "outputs": [],
   "source": [
    "import numpy as np\n",
    "import pandas as pd\n",
    "\n",
    "import geopandas as gpd\n",
    "import osmnx as ox"
   ]
  },
  {
   "cell_type": "markdown",
   "id": "86be767b-d3f1-41a2-ab11-708b652b8e05",
   "metadata": {},
   "source": [
    "# Selecting New York City"
   ]
  },
  {
   "cell_type": "markdown",
   "id": "50ee0044-0e7d-48e4-88a7-1b137d7c473f",
   "metadata": {},
   "source": [
    "First get city boundaries:"
   ]
  },
  {
   "cell_type": "code",
   "execution_count": 10,
   "id": "8f9df217-ef02-48ec-9989-e56c8234cd6d",
   "metadata": {},
   "outputs": [],
   "source": [
    "nyc_boundary = gpd.read_file('../d01_data/geo/nyc/ct-nyc-2020.geojson').dissolve()"
   ]
  },
  {
   "cell_type": "markdown",
   "id": "fe070f82-3588-4664-9748-1b671dc6d842",
   "metadata": {},
   "source": [
    "Now get city ZCTAs (check both 2010 and 2020 files):"
   ]
  },
  {
   "cell_type": "code",
   "execution_count": 47,
   "id": "d8e7b62d-a929-4ab7-8039-403cfe13aea1",
   "metadata": {},
   "outputs": [],
   "source": [
    "#National files:\n",
    "ZCTA_2010 = gpd.read_file('../../../static/ZBP/spatial/tl_2020_us_zcta510.shp').to_crs(nyc_boundary.crs)\n",
    "ZCTA_2020 = gpd.read_file('../../../static/ZBP/spatial/tl_2020_us_zcta520.shp').to_crs(nyc_boundary.crs)\n",
    "\n",
    "#New York files:\n",
    "nyc_2010 = ZCTA_2010.overlay(nyc_boundary)\n",
    "nyc_2020 = ZCTA_2020.overlay(nyc_boundary)\n",
    "\n",
    "#Collect:\n",
    "valid_ZCTAs = {2010:nyc_2010.ZCTA5CE10.astype(int).values,\n",
    "               2020:nyc_2020.ZCTA5CE20.astype(int).values}"
   ]
  },
  {
   "cell_type": "markdown",
   "id": "b5174290-04d2-47ab-846c-f1818af6a167",
   "metadata": {},
   "source": [
    "## Querying ZBP"
   ]
  },
  {
   "cell_type": "code",
   "execution_count": 65,
   "id": "d57306e4-e098-4c99-8370-6ccb6a4dc1dd",
   "metadata": {},
   "outputs": [],
   "source": [
    "US_yearly_df  = {2000+y: pd.read_csv(f'../../../static/ZBP/raw/zbp{yy}detail.txt', usecols=['zip','naics','est'], encoding='latin')\n",
    "                 for y in range(17,23)}\n",
    "NYC_yearly_df = {year: df.loc[df['zip'].astype(int).isin(valid_ZCTAs[2020 if year>=2020 else 2010])].reset_index(drop=True)\n",
    "                 for year,df in US_yearly_df.items()}\n",
    "NYC_df_all = pd.concat([df.assign(year=year) for year, df in NYC_yearly_df.items()],ignore_index=True)\n",
    "NYC_df_all.to_csv('../../../static/ZBP/all_NYC.csv', index=False)"
   ]
  }
 ],
 "metadata": {
  "kernelspec": {
   "display_name": "Python 3 (ipykernel)",
   "language": "python",
   "name": "python3"
  },
  "language_info": {
   "codemirror_mode": {
    "name": "ipython",
    "version": 3
   },
   "file_extension": ".py",
   "mimetype": "text/x-python",
   "name": "python",
   "nbconvert_exporter": "python",
   "pygments_lexer": "ipython3",
   "version": "3.12.10"
  }
 },
 "nbformat": 4,
 "nbformat_minor": 5
}
